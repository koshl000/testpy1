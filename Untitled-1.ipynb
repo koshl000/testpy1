{
 "cells": [
  {
   "cell_type": "code",
   "execution_count": null,
   "metadata": {},
   "outputs": [],
   "source": [
    "import  numpy as np\n",
    "\n",
    "print(np.array([1,2,3,41]))"
   ]
  }
 ],
 "metadata": {
  "kernelspec": {
   "display_name": "hands_on",
   "language": "python",
   "name": "python3"
  },
  "language_info": {
   "name": "python",
   "version": "3.10.4"
  },
  "orig_nbformat": 4
 },
 "nbformat": 4,
 "nbformat_minor": 2
}
